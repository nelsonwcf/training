{
 "cells": [
  {
   "cell_type": "code",
   "execution_count": 12,
   "metadata": {},
   "outputs": [],
   "source": [
    "import tensorflow as tf\n",
    "from tensorflow import keras\n",
    "import numpy as np"
   ]
  },
  {
   "cell_type": "code",
   "execution_count": 28,
   "metadata": {},
   "outputs": [],
   "source": [
    "fashion_mnist = keras.datasets.fashion_mnist\n",
    "(X_train_full, y_train_full),(X_test, y_test) = fashion_mnist.load_data()"
   ]
  },
  {
   "cell_type": "code",
   "execution_count": 30,
   "metadata": {},
   "outputs": [],
   "source": [
    "X_valid, X_train = X_train_full[:5000] / 255.0, X_train_full[5000:] / 255.0\n",
    "y_valid, y_train = y_train_full[:5000], y_train_full[5000:]"
   ]
  },
  {
   "cell_type": "code",
   "execution_count": 31,
   "metadata": {},
   "outputs": [],
   "source": [
    "class_names = [\"T-shirt/top\", \"Trouser\", \"Pullover\", \"Dress\", \"Coat\", \"Sandal\", \"Shirt\", \"Sneaker\", \"Bag\", \"Ankle boot\"]"
   ]
  },
  {
   "cell_type": "markdown",
   "metadata": {},
   "source": [
    "## Using the Sequential API"
   ]
  },
  {
   "cell_type": "code",
   "execution_count": 46,
   "metadata": {},
   "outputs": [],
   "source": [
    "model = keras.models.Sequential()\n",
    "model.add(keras.layers.Flatten(input_shape=[28,28]))\n",
    "model.add(keras.layers.Dense(300, activation='relu'))\n",
    "model.add(keras.layers.Dense(100, activation='relu'))\n",
    "model.add(keras.layers.Dense(10, activation='softmax'))"
   ]
  },
  {
   "cell_type": "code",
   "execution_count": 55,
   "metadata": {},
   "outputs": [],
   "source": [
    "model.compile(loss='sparse_categorical_crossentropy', optimizer='sgd', metrics=['accuracy'])"
   ]
  },
  {
   "cell_type": "code",
   "execution_count": 56,
   "metadata": {},
   "outputs": [
    {
     "name": "stdout",
     "output_type": "stream",
     "text": [
      "Train on 55000 samples, validate on 5000 samples\n",
      "Epoch 1/50\n",
      "55000/55000 [==============================] - 8s 148us/sample - loss: 0.7163 - accuracy: 0.7637 - val_loss: 0.5039 - val_accuracy: 0.8332\n",
      "Epoch 2/50\n",
      "55000/55000 [==============================] - 7s 132us/sample - loss: 0.4914 - accuracy: 0.8280 - val_loss: 0.4447 - val_accuracy: 0.8516\n",
      "Epoch 3/50\n",
      "55000/55000 [==============================] - 7s 133us/sample - loss: 0.4469 - accuracy: 0.8426 - val_loss: 0.4415 - val_accuracy: 0.8434\n",
      "Epoch 4/50\n",
      "55000/55000 [==============================] - 7s 130us/sample - loss: 0.4207 - accuracy: 0.8525 - val_loss: 0.3961 - val_accuracy: 0.8678\n",
      "Epoch 5/50\n",
      "55000/55000 [==============================] - 7s 132us/sample - loss: 0.3984 - accuracy: 0.8594 - val_loss: 0.3760 - val_accuracy: 0.8744\n",
      "Epoch 6/50\n",
      "55000/55000 [==============================] - 8s 137us/sample - loss: 0.3822 - accuracy: 0.8649 - val_loss: 0.3784 - val_accuracy: 0.8688\n",
      "Epoch 7/50\n",
      "55000/55000 [==============================] - 8s 139us/sample - loss: 0.3677 - accuracy: 0.8698 - val_loss: 0.3575 - val_accuracy: 0.8758\n",
      "Epoch 8/50\n",
      "55000/55000 [==============================] - 8s 141us/sample - loss: 0.3553 - accuracy: 0.8752 - val_loss: 0.3517 - val_accuracy: 0.8746\n",
      "Epoch 9/50\n",
      "55000/55000 [==============================] - 8s 137us/sample - loss: 0.3448 - accuracy: 0.8774 - val_loss: 0.3478 - val_accuracy: 0.8766\n",
      "Epoch 10/50\n",
      "55000/55000 [==============================] - 8s 137us/sample - loss: 0.3347 - accuracy: 0.8820 - val_loss: 0.3619 - val_accuracy: 0.8686\n",
      "Epoch 11/50\n",
      "55000/55000 [==============================] - 8s 139us/sample - loss: 0.3259 - accuracy: 0.8844 - val_loss: 0.3357 - val_accuracy: 0.8820\n",
      "Epoch 12/50\n",
      "55000/55000 [==============================] - 7s 136us/sample - loss: 0.3165 - accuracy: 0.8868 - val_loss: 0.3276 - val_accuracy: 0.8850\n",
      "Epoch 13/50\n",
      "55000/55000 [==============================] - 8s 138us/sample - loss: 0.3109 - accuracy: 0.8886 - val_loss: 0.3306 - val_accuracy: 0.8842\n",
      "Epoch 14/50\n",
      "55000/55000 [==============================] - 8s 137us/sample - loss: 0.3025 - accuracy: 0.8907 - val_loss: 0.3389 - val_accuracy: 0.8762\n",
      "Epoch 15/50\n",
      "55000/55000 [==============================] - 7s 136us/sample - loss: 0.2964 - accuracy: 0.8937 - val_loss: 0.3292 - val_accuracy: 0.8814\n",
      "Epoch 16/50\n",
      "55000/55000 [==============================] - 7s 133us/sample - loss: 0.2898 - accuracy: 0.8966 - val_loss: 0.3124 - val_accuracy: 0.8886\n",
      "Epoch 17/50\n",
      "55000/55000 [==============================] - 7s 134us/sample - loss: 0.2839 - accuracy: 0.8979 - val_loss: 0.3257 - val_accuracy: 0.8824\n",
      "Epoch 18/50\n",
      "55000/55000 [==============================] - 8s 140us/sample - loss: 0.2793 - accuracy: 0.8997 - val_loss: 0.3124 - val_accuracy: 0.8864\n",
      "Epoch 19/50\n",
      "55000/55000 [==============================] - 7s 133us/sample - loss: 0.2733 - accuracy: 0.9020 - val_loss: 0.3099 - val_accuracy: 0.8862\n",
      "Epoch 20/50\n",
      "55000/55000 [==============================] - 7s 135us/sample - loss: 0.2678 - accuracy: 0.9039 - val_loss: 0.3093 - val_accuracy: 0.8918\n",
      "Epoch 21/50\n",
      "55000/55000 [==============================] - 7s 136us/sample - loss: 0.2630 - accuracy: 0.9055 - val_loss: 0.3116 - val_accuracy: 0.8866\n",
      "Epoch 22/50\n",
      "55000/55000 [==============================] - 7s 135us/sample - loss: 0.2592 - accuracy: 0.9081 - val_loss: 0.3028 - val_accuracy: 0.8884\n",
      "Epoch 23/50\n",
      "55000/55000 [==============================] - 7s 134us/sample - loss: 0.2542 - accuracy: 0.9077 - val_loss: 0.3032 - val_accuracy: 0.8938\n",
      "Epoch 24/50\n",
      "55000/55000 [==============================] - 7s 132us/sample - loss: 0.2491 - accuracy: 0.9108 - val_loss: 0.3192 - val_accuracy: 0.8874\n",
      "Epoch 25/50\n",
      "55000/55000 [==============================] - 7s 134us/sample - loss: 0.2437 - accuracy: 0.9118 - val_loss: 0.2921 - val_accuracy: 0.8936\n",
      "Epoch 26/50\n",
      "55000/55000 [==============================] - 8s 144us/sample - loss: 0.2413 - accuracy: 0.9133 - val_loss: 0.2978 - val_accuracy: 0.8928\n",
      "Epoch 27/50\n",
      "55000/55000 [==============================] - 7s 134us/sample - loss: 0.2375 - accuracy: 0.9150 - val_loss: 0.2933 - val_accuracy: 0.8972\n",
      "Epoch 28/50\n",
      "55000/55000 [==============================] - 7s 135us/sample - loss: 0.2327 - accuracy: 0.9161 - val_loss: 0.3021 - val_accuracy: 0.8906\n",
      "Epoch 29/50\n",
      "55000/55000 [==============================] - 7s 134us/sample - loss: 0.2287 - accuracy: 0.9179 - val_loss: 0.3091 - val_accuracy: 0.8884\n",
      "Epoch 30/50\n",
      "55000/55000 [==============================] - 7s 136us/sample - loss: 0.2253 - accuracy: 0.9185 - val_loss: 0.2912 - val_accuracy: 0.8978\n",
      "Epoch 31/50\n",
      "55000/55000 [==============================] - 8s 140us/sample - loss: 0.2206 - accuracy: 0.9210 - val_loss: 0.2981 - val_accuracy: 0.8902\n",
      "Epoch 32/50\n",
      "55000/55000 [==============================] - 7s 136us/sample - loss: 0.2175 - accuracy: 0.9223 - val_loss: 0.3080 - val_accuracy: 0.8880\n",
      "Epoch 33/50\n",
      "55000/55000 [==============================] - 7s 136us/sample - loss: 0.2136 - accuracy: 0.9233 - val_loss: 0.2959 - val_accuracy: 0.8950\n",
      "Epoch 34/50\n",
      "55000/55000 [==============================] - 8s 137us/sample - loss: 0.2103 - accuracy: 0.9250 - val_loss: 0.2846 - val_accuracy: 0.8928\n",
      "Epoch 35/50\n",
      "55000/55000 [==============================] - 8s 137us/sample - loss: 0.2073 - accuracy: 0.9257 - val_loss: 0.2898 - val_accuracy: 0.8944\n",
      "Epoch 36/50\n",
      "55000/55000 [==============================] - 8s 140us/sample - loss: 0.2035 - accuracy: 0.9272 - val_loss: 0.3135 - val_accuracy: 0.8852\n",
      "Epoch 37/50\n",
      "55000/55000 [==============================] - 8s 137us/sample - loss: 0.2009 - accuracy: 0.9277 - val_loss: 0.2866 - val_accuracy: 0.9028\n",
      "Epoch 38/50\n",
      "55000/55000 [==============================] - 7s 136us/sample - loss: 0.1967 - accuracy: 0.9312 - val_loss: 0.2950 - val_accuracy: 0.8938\n",
      "Epoch 39/50\n",
      "55000/55000 [==============================] - 8s 140us/sample - loss: 0.1943 - accuracy: 0.9305 - val_loss: 0.2882 - val_accuracy: 0.8966\n",
      "Epoch 40/50\n",
      "55000/55000 [==============================] - 8s 138us/sample - loss: 0.1898 - accuracy: 0.9319 - val_loss: 0.3016 - val_accuracy: 0.8918\n",
      "Epoch 41/50\n",
      "55000/55000 [==============================] - 8s 137us/sample - loss: 0.1872 - accuracy: 0.9334 - val_loss: 0.2804 - val_accuracy: 0.8992\n",
      "Epoch 42/50\n",
      "55000/55000 [==============================] - 8s 139us/sample - loss: 0.1842 - accuracy: 0.9340 - val_loss: 0.2954 - val_accuracy: 0.8906\n",
      "Epoch 43/50\n",
      "55000/55000 [==============================] - 8s 141us/sample - loss: 0.1812 - accuracy: 0.9356 - val_loss: 0.2900 - val_accuracy: 0.8970\n",
      "Epoch 44/50\n",
      "55000/55000 [==============================] - 7s 136us/sample - loss: 0.1786 - accuracy: 0.9371 - val_loss: 0.2895 - val_accuracy: 0.8976\n",
      "Epoch 45/50\n",
      "55000/55000 [==============================] - 8s 139us/sample - loss: 0.1757 - accuracy: 0.9378 - val_loss: 0.2916 - val_accuracy: 0.8958\n",
      "Epoch 46/50\n",
      "55000/55000 [==============================] - 8s 139us/sample - loss: 0.1735 - accuracy: 0.9381 - val_loss: 0.2953 - val_accuracy: 0.9016\n",
      "Epoch 47/50\n",
      "55000/55000 [==============================] - 8s 143us/sample - loss: 0.1697 - accuracy: 0.9396 - val_loss: 0.3009 - val_accuracy: 0.8928\n",
      "Epoch 48/50\n",
      "55000/55000 [==============================] - 8s 152us/sample - loss: 0.1670 - accuracy: 0.9414 - val_loss: 0.2959 - val_accuracy: 0.8962\n",
      "Epoch 49/50\n",
      "55000/55000 [==============================] - 8s 143us/sample - loss: 0.1653 - accuracy: 0.9415 - val_loss: 0.2881 - val_accuracy: 0.8940\n",
      "Epoch 50/50\n",
      "55000/55000 [==============================] - 8s 138us/sample - loss: 0.1614 - accuracy: 0.9429 - val_loss: 0.2942 - val_accuracy: 0.8968\n"
     ]
    }
   ],
   "source": [
    "history = model.fit(X_train, y_train, epochs=50, validation_data=(X_valid, y_valid))"
   ]
  },
  {
   "cell_type": "code",
   "execution_count": 57,
   "metadata": {},
   "outputs": [
    {
     "data": {
      "image/png": "[encoded data removed]",
      "text/plain": [
       "<Figure size 576x360 with 1 Axes>"
      ]
     },
     "metadata": {
      "needs_background": "light"
     },
     "output_type": "display_data"
    }
   ],
   "source": [
    "import pandas as pd\n",
    "import matplotlib.pyplot as plt\n",
    "\n",
    "pd.DataFrame(history.history).plot(figsize=(8,5))\n",
    "plt.grid(True)\n",
    "plt.gca().set_ylim(0, 1)\n",
    "plt.show()"
   ]
  },
  {
   "cell_type": "code",
   "execution_count": null,
   "metadata": {},
   "outputs": [],
   "source": []
  }
 ],
 "metadata": {
  "kernelspec": {
   "display_name": "Python 3",
   "language": "python",
   "name": "python3"
  },
  "language_info": {
   "codemirror_mode": {
    "name": "ipython",
    "version": 3
   },
   "file_extension": ".py",
   "mimetype": "text/x-python",
   "name": "python",
   "nbconvert_exporter": "python",
   "pygments_lexer": "ipython3",
   "version": "3.7.6"
  }
 },
 "nbformat": 4,
 "nbformat_minor": 4
}
